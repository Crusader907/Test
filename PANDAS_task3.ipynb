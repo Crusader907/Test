{
  "nbformat": 4,
  "nbformat_minor": 0,
  "metadata": {
    "colab": {
      "provenance": [],
      "toc_visible": true
    },
    "kernelspec": {
      "name": "python3",
      "display_name": "Python 3"
    },
    "language_info": {
      "name": "python"
    }
  },
  "cells": [
    {
      "cell_type": "markdown",
      "source": [
        "Монтируем гугл диск для колаба"
      ],
      "metadata": {
        "id": "-gJ6j7jYW2SI"
      }
    },
    {
      "cell_type": "code",
      "source": [
        "\n",
        "from google.colab import drive\n",
        "\n",
        "# Монтируем Google Drive\n",
        "drive.mount('/content/drive')"
      ],
      "metadata": {
        "colab": {
          "base_uri": "https://localhost:8080/"
        },
        "id": "43_QyaJiWpxG",
        "outputId": "e9482ced-8835-4d64-da61-892895981044"
      },
      "execution_count": 23,
      "outputs": [
        {
          "output_type": "stream",
          "name": "stdout",
          "text": [
            "Drive already mounted at /content/drive; to attempt to forcibly remount, call drive.mount(\"/content/drive\", force_remount=True).\n"
          ]
        }
      ]
    },
    {
      "cell_type": "markdown",
      "source": [
        "Считываем файл"
      ],
      "metadata": {
        "id": "EoDiwiaJXBmL"
      }
    },
    {
      "cell_type": "code",
      "source": [
        "import pandas as pd\n",
        "\n",
        "# Путь к файлу в Google Drive\n",
        "file_path = \"/content/drive/MyDrive/Colab Notebooks/train.csv\"\n",
        "\n",
        "# Читаем CSV-файл\n",
        "df = pd.read_csv(file_path)\n"
      ],
      "metadata": {
        "id": "QXAFWo9VWx20"
      },
      "execution_count": 25,
      "outputs": []
    },
    {
      "cell_type": "markdown",
      "source": [
        "Выполнение первого пункта задачи"
      ],
      "metadata": {
        "id": "3DmRmF2BZZwd"
      }
    },
    {
      "cell_type": "code",
      "source": [
        "# Основная информация о датасете\n",
        "print(\"=== Информация о датасете ===\")\n",
        "print(df.info())\n",
        "\n",
        "print(\"\\n=== Описательная статистика ===\")\n",
        "print(df.describe())\n",
        "\n",
        "print(\"\\n=== Количество пропусков ===\")\n",
        "print(df.isnull().sum())"
      ],
      "metadata": {
        "colab": {
          "base_uri": "https://localhost:8080/"
        },
        "collapsed": true,
        "id": "MlVegP7sZeut",
        "outputId": "0cdc8c18-62fe-4ead-d6ef-67cdf04a0fbf"
      },
      "execution_count": 54,
      "outputs": [
        {
          "output_type": "stream",
          "name": "stdout",
          "text": [
            "=== Информация о датасете ===\n",
            "<class 'pandas.core.frame.DataFrame'>\n",
            "RangeIndex: 891 entries, 0 to 890\n",
            "Data columns (total 13 columns):\n",
            " #   Column       Non-Null Count  Dtype  \n",
            "---  ------       --------------  -----  \n",
            " 0   PassengerId  891 non-null    int64  \n",
            " 1   Survived     891 non-null    int64  \n",
            " 2   Pclass       891 non-null    int64  \n",
            " 3   Name         891 non-null    object \n",
            " 4   Sex          891 non-null    object \n",
            " 5   Age          714 non-null    float64\n",
            " 6   SibSp        891 non-null    int64  \n",
            " 7   Parch        891 non-null    int64  \n",
            " 8   Ticket       891 non-null    object \n",
            " 9   Fare         891 non-null    float64\n",
            " 10  Cabin        204 non-null    object \n",
            " 11  Embarked     889 non-null    object \n",
            " 12  FirstName    891 non-null    object \n",
            "dtypes: float64(2), int64(5), object(6)\n",
            "memory usage: 90.6+ KB\n",
            "None\n",
            "\n",
            "=== Описательная статистика ===\n",
            "       PassengerId    Survived      Pclass         Age       SibSp  \\\n",
            "count   891.000000  891.000000  891.000000  714.000000  891.000000   \n",
            "mean    446.000000    0.383838    2.308642   29.699118    0.523008   \n",
            "std     257.353842    0.486592    0.836071   14.526497    1.102743   \n",
            "min       1.000000    0.000000    1.000000    0.420000    0.000000   \n",
            "25%     223.500000    0.000000    2.000000   20.125000    0.000000   \n",
            "50%     446.000000    0.000000    3.000000   28.000000    0.000000   \n",
            "75%     668.500000    1.000000    3.000000   38.000000    1.000000   \n",
            "max     891.000000    1.000000    3.000000   80.000000    8.000000   \n",
            "\n",
            "            Parch        Fare  \n",
            "count  891.000000  891.000000  \n",
            "mean     0.381594   32.204208  \n",
            "std      0.806057   49.693429  \n",
            "min      0.000000    0.000000  \n",
            "25%      0.000000    7.910400  \n",
            "50%      0.000000   14.454200  \n",
            "75%      0.000000   31.000000  \n",
            "max      6.000000  512.329200  \n",
            "\n",
            "=== Количество пропусков ===\n",
            "PassengerId      0\n",
            "Survived         0\n",
            "Pclass           0\n",
            "Name             0\n",
            "Sex              0\n",
            "Age            177\n",
            "SibSp            0\n",
            "Parch            0\n",
            "Ticket           0\n",
            "Fare             0\n",
            "Cabin          687\n",
            "Embarked         2\n",
            "FirstName        0\n",
            "dtype: int64\n"
          ]
        }
      ]
    },
    {
      "cell_type": "markdown",
      "source": [
        "Процент выживаемости"
      ],
      "metadata": {
        "id": "i7SK70BcnbY8"
      }
    },
    {
      "cell_type": "code",
      "source": [
        "survival_rate_by_class = df.groupby('Pclass')['Survived'].mean() * 100\n",
        "print(\"\\nПроцент выживаемости по классам:\")\n",
        "print(survival_rate_by_class)"
      ],
      "metadata": {
        "colab": {
          "base_uri": "https://localhost:8080/"
        },
        "collapsed": true,
        "id": "x3TVg9Bdng_H",
        "outputId": "8699a525-58bf-42d0-f0fe-5ae8365ba13c"
      },
      "execution_count": 71,
      "outputs": [
        {
          "output_type": "stream",
          "name": "stdout",
          "text": [
            "\n",
            "Процент выживаемости по классам:\n",
            "Pclass\n",
            "1    62.962963\n",
            "2    47.282609\n",
            "3    24.236253\n",
            "Name: Survived, dtype: float64\n"
          ]
        }
      ]
    },
    {
      "cell_type": "markdown",
      "source": [
        "Самое популярное мужское и самое популярное женское имя на корабле. Типичное имя представляет из себя \"Braund, Mr. Owen Harris\". Значит надо эту ячейку разделить на 3. 1 - Braund, 2 - Mr, 3 - Owen Harris. Нам нужен только последний элемент. Собственно его и сохраняем в first name. Т.е. появился новый столбец в датафрейме."
      ],
      "metadata": {
        "id": "Bi2F4P8tn8Mn"
      }
    },
    {
      "cell_type": "code",
      "source": [
        "def extract_first_name(name):\n",
        "    return name.split(', ')[1].split('. ')[1].strip()\n",
        "\n",
        "df['FirstName'] = df['Name'].apply(extract_first_name)\n"
      ],
      "metadata": {
        "id": "FLTVmNpJqEEz"
      },
      "execution_count": 45,
      "outputs": []
    },
    {
      "cell_type": "markdown",
      "source": [
        "Проверка нового столбца"
      ],
      "metadata": {
        "id": "t9rxIaK1uy4A"
      }
    },
    {
      "cell_type": "code",
      "source": [
        "print(\"=== Информация об обновленном датасете ===\")\n",
        "print(df.info())"
      ],
      "metadata": {
        "id": "CqX5xhH5uuAA"
      },
      "execution_count": null,
      "outputs": []
    },
    {
      "cell_type": "markdown",
      "source": [
        "Ищем популярные имена. Сортируем по полу, используем value_counts"
      ],
      "metadata": {
        "id": "mY80JRK9u2OY"
      }
    },
    {
      "cell_type": "code",
      "source": [
        "male_names = df[df['Sex'] == 'male']['FirstName'].value_counts()\n",
        "female_names = df[df['Sex'] == 'female']['FirstName'].value_counts()\n",
        "\n",
        "print(\"\\n=== Самые популярные имена ===\")\n",
        "print(\"Мужское:\", male_names.index[0])\n",
        "print(\"Женское:\", female_names.index[0])"
      ],
      "metadata": {
        "colab": {
          "base_uri": "https://localhost:8080/"
        },
        "collapsed": true,
        "id": "B2Xe2Mw_upsO",
        "outputId": "d1d1ab3a-87cf-43dd-ae0b-7d5f01f1e31b"
      },
      "execution_count": 72,
      "outputs": [
        {
          "output_type": "stream",
          "name": "stdout",
          "text": [
            "\n",
            "=== Самые популярные имена ===\n",
            "Мужское: John\n",
            "Женское: Mary\n"
          ]
        }
      ]
    },
    {
      "cell_type": "markdown",
      "source": [
        "Популярные имена по классам."
      ],
      "metadata": {
        "id": "wdY1u_XSzfQ7"
      }
    },
    {
      "cell_type": "code",
      "source": [
        "print(\"\\n=== Популярные имена по классам ===\")\n",
        "\n",
        "# Создаем словарь для хранения результатов. Ключ словаря - номер класса\n",
        "popular_names_by_class = {}\n",
        "\n",
        "# Перебираем все классы, получаем уникальные значения классов и сортируем их по возрастанию (1,2,3).\n",
        "for pclass in sorted(df['Pclass'].unique()):\n",
        "    print(f\"\\nКласс {pclass}:\")\n",
        "\n",
        "    # Фильтруем по классу и полу для каждого класса\n",
        "    males_in_class = df[(df['Pclass'] == pclass) & (df['Sex'] == 'male')]\n",
        "    females_in_class = df[(df['Pclass'] == pclass) & (df['Sex'] == 'female')]\n",
        "\n",
        "    # Считаем частоту имен\n",
        "    male_name_counts = males_in_class['FirstName'].value_counts()\n",
        "    female_name_counts = females_in_class['FirstName'].value_counts()\n",
        "\n",
        "    # Берем самое популярное имя (первое в отсортированном списке)\n",
        "    top_male = male_name_counts.index[0]\n",
        "    top_female = female_name_counts.index[0]\n",
        "\n",
        "    print(f\"Мужское: {top_male}\")\n",
        "    print(f\"Женское: {top_female}\")\n",
        "\n",
        "    # Сохраняем результаты в словарь\n",
        "    popular_names_by_class[pclass] = {'male': top_male, 'female': top_female}"
      ],
      "metadata": {
        "colab": {
          "base_uri": "https://localhost:8080/"
        },
        "id": "iG-pySjHziEF",
        "outputId": "dad4da7e-4bc5-4e36-ec2d-6a0b2d542fd0"
      },
      "execution_count": 73,
      "outputs": [
        {
          "output_type": "stream",
          "name": "stdout",
          "text": [
            "\n",
            "=== Популярные имена по классам ===\n",
            "\n",
            "Класс 1:\n",
            "Мужское: Victor\n",
            "Женское: John Bradley (Florence Briggs Thayer)\n",
            "\n",
            "Класс 2:\n",
            "Мужское: William John\n",
            "Женское: Bertha\n",
            "\n",
            "Класс 3:\n",
            "Мужское: James\n",
            "Женское: Mary\n"
          ]
        }
      ]
    },
    {
      "cell_type": "markdown",
      "source": [
        "Задание часть таблицы с пассажирами, возраст которых больше 44 лет"
      ],
      "metadata": {
        "id": "VnlVNU4KISBy"
      }
    },
    {
      "cell_type": "markdown",
      "source": [
        "В начале было видно, что в столбце AGE есть 177 шт пропущенных значений. Надо их стереть."
      ],
      "metadata": {
        "id": "bcv7ze55IZmQ"
      }
    },
    {
      "cell_type": "code",
      "source": [
        "#Удаляем строки с пропущенными значениями Age\n",
        "df_with_age = df.dropna(subset=['Age'])\n"
      ],
      "metadata": {
        "id": "pd4NWJkoEmdY"
      },
      "execution_count": 59,
      "outputs": []
    },
    {
      "cell_type": "code",
      "source": [
        "#проверка выполнение команды\n",
        "print(\"\\n=== Количество пропусков проверка AGE ===\")\n",
        "print(df_with_age.isnull().sum())"
      ],
      "metadata": {
        "colab": {
          "base_uri": "https://localhost:8080/"
        },
        "collapsed": true,
        "id": "rcoYdz6-GDHv",
        "outputId": "caa19639-e80a-48c0-f7dd-a104a2956121"
      },
      "execution_count": 64,
      "outputs": [
        {
          "output_type": "stream",
          "name": "stdout",
          "text": [
            "\n",
            "=== Количество пропусков проверка AGE ===\n",
            "PassengerId      0\n",
            "Survived         0\n",
            "Pclass           0\n",
            "Name             0\n",
            "Sex              0\n",
            "Age              0\n",
            "SibSp            0\n",
            "Parch            0\n",
            "Ticket           0\n",
            "Fare             0\n",
            "Cabin          529\n",
            "Embarked         2\n",
            "FirstName        0\n",
            "dtype: int64\n"
          ]
        }
      ]
    },
    {
      "cell_type": "code",
      "source": [
        "# Фильтруем строки, где возраст больше 44 лет\n",
        "older_than_44 = df_with_age[df_with_age['Age'] > 44]\n",
        "print(\"\\n=== Пассажиры старше 44 лет ===\")\n",
        "print(older_than_44)"
      ],
      "metadata": {
        "colab": {
          "base_uri": "https://localhost:8080/"
        },
        "collapsed": true,
        "id": "99jNaH2HFwYe",
        "outputId": "0084eb6c-aa41-44d6-f479-aaec3deb6555"
      },
      "execution_count": 65,
      "outputs": [
        {
          "output_type": "stream",
          "name": "stdout",
          "text": [
            "\n",
            "=== Пассажиры старше 44 лет ===\n",
            "     PassengerId  Survived  Pclass  \\\n",
            "6              7         0       1   \n",
            "11            12         1       1   \n",
            "15            16         1       2   \n",
            "33            34         0       2   \n",
            "52            53         1       1   \n",
            "..           ...       ...     ...   \n",
            "857          858         1       1   \n",
            "862          863         1       1   \n",
            "871          872         1       1   \n",
            "873          874         0       3   \n",
            "879          880         1       1   \n",
            "\n",
            "                                                  Name     Sex   Age  SibSp  \\\n",
            "6                              McCarthy, Mr. Timothy J    male  54.0      0   \n",
            "11                            Bonnell, Miss. Elizabeth  female  58.0      0   \n",
            "15                    Hewlett, Mrs. (Mary D Kingcome)   female  55.0      0   \n",
            "33                               Wheadon, Mr. Edward H    male  66.0      0   \n",
            "52            Harper, Mrs. Henry Sleeper (Myna Haxtun)  female  49.0      1   \n",
            "..                                                 ...     ...   ...    ...   \n",
            "857                             Daly, Mr. Peter Denis     male  51.0      0   \n",
            "862  Swift, Mrs. Frederick Joel (Margaret Welles Ba...  female  48.0      0   \n",
            "871   Beckwith, Mrs. Richard Leonard (Sallie Monypeny)  female  47.0      1   \n",
            "873                        Vander Cruyssen, Mr. Victor    male  47.0      0   \n",
            "879      Potter, Mrs. Thomas Jr (Lily Alexenia Wilson)  female  56.0      0   \n",
            "\n",
            "     Parch      Ticket     Fare Cabin Embarked  \\\n",
            "6        0       17463  51.8625   E46        S   \n",
            "11       0      113783  26.5500  C103        S   \n",
            "15       0      248706  16.0000   NaN        S   \n",
            "33       0  C.A. 24579  10.5000   NaN        S   \n",
            "52       0    PC 17572  76.7292   D33        C   \n",
            "..     ...         ...      ...   ...      ...   \n",
            "857      0      113055  26.5500   E17        S   \n",
            "862      0       17466  25.9292   D17        S   \n",
            "871      1       11751  52.5542   D35        S   \n",
            "873      0      345765   9.0000   NaN        S   \n",
            "879      1       11767  83.1583   C50        C   \n",
            "\n",
            "                                   FirstName  \n",
            "6                                  Timothy J  \n",
            "11                                 Elizabeth  \n",
            "15                        (Mary D Kingcome)   \n",
            "33                                  Edward H  \n",
            "52               Henry Sleeper (Myna Haxtun)  \n",
            "..                                       ...  \n",
            "857                             Peter Denis   \n",
            "862  Frederick Joel (Margaret Welles Barron)  \n",
            "871        Richard Leonard (Sallie Monypeny)  \n",
            "873                                   Victor  \n",
            "879         Thomas Jr (Lily Alexenia Wilson)  \n",
            "\n",
            "[115 rows x 13 columns]\n"
          ]
        }
      ]
    },
    {
      "cell_type": "markdown",
      "source": [
        "Столбец уже очищен от \"пустышек\", так что просто фильтруем его."
      ],
      "metadata": {
        "id": "FAKpJfIHIzAc"
      }
    },
    {
      "cell_type": "code",
      "source": [
        "younger_than_44_male = df_with_age[(df_with_age['Age'] < 44) & (df_with_age['Sex'] == 'male')]\n",
        "print(\"\\n=== Пассажиры младше 44 лет мужского пола ===\")\n",
        "print(younger_than_44_male)"
      ],
      "metadata": {
        "colab": {
          "base_uri": "https://localhost:8080/"
        },
        "collapsed": true,
        "id": "3PDsZ5Y5IyXT",
        "outputId": "c4a08389-bf5f-4cbe-85d0-31f7750c70e8"
      },
      "execution_count": 67,
      "outputs": [
        {
          "output_type": "stream",
          "name": "stdout",
          "text": [
            "\n",
            "=== Пассажиры младше 44 лет мужского пола ===\n",
            "     PassengerId  Survived  Pclass                            Name   Sex  \\\n",
            "0              1         0       3         Braund, Mr. Owen Harris  male   \n",
            "4              5         0       3        Allen, Mr. William Henry  male   \n",
            "7              8         0       3  Palsson, Master. Gosta Leonard  male   \n",
            "12            13         0       3  Saundercock, Mr. William Henry  male   \n",
            "13            14         0       3     Andersson, Mr. Anders Johan  male   \n",
            "..           ...       ...     ...                             ...   ...   \n",
            "883          884         0       2   Banfield, Mr. Frederick James  male   \n",
            "884          885         0       3          Sutehall, Mr. Henry Jr  male   \n",
            "886          887         0       2           Montvila, Rev. Juozas  male   \n",
            "889          890         1       1           Behr, Mr. Karl Howell  male   \n",
            "890          891         0       3             Dooley, Mr. Patrick  male   \n",
            "\n",
            "      Age  SibSp  Parch            Ticket    Fare Cabin Embarked  \\\n",
            "0    22.0      1      0         A/5 21171   7.250   NaN        S   \n",
            "4    35.0      0      0            373450   8.050   NaN        S   \n",
            "7     2.0      3      1            349909  21.075   NaN        S   \n",
            "12   20.0      0      0         A/5. 2151   8.050   NaN        S   \n",
            "13   39.0      1      5            347082  31.275   NaN        S   \n",
            "..    ...    ...    ...               ...     ...   ...      ...   \n",
            "883  28.0      0      0  C.A./SOTON 34068  10.500   NaN        S   \n",
            "884  25.0      0      0   SOTON/OQ 392076   7.050   NaN        S   \n",
            "886  27.0      0      0            211536  13.000   NaN        S   \n",
            "889  26.0      0      0            111369  30.000  C148        C   \n",
            "890  32.0      0      0            370376   7.750   NaN        Q   \n",
            "\n",
            "           FirstName  \n",
            "0        Owen Harris  \n",
            "4      William Henry  \n",
            "7      Gosta Leonard  \n",
            "12     William Henry  \n",
            "13      Anders Johan  \n",
            "..               ...  \n",
            "883  Frederick James  \n",
            "884         Henry Jr  \n",
            "886           Juozas  \n",
            "889      Karl Howell  \n",
            "890          Patrick  \n",
            "\n",
            "[368 rows x 13 columns]\n"
          ]
        }
      ]
    },
    {
      "cell_type": "markdown",
      "source": [
        "Считаем каюты. Тоже есть пустые значения, поэтому удаляем пустые."
      ],
      "metadata": {
        "id": "U_whZW4CL0na"
      }
    },
    {
      "cell_type": "code",
      "source": [
        "df_cabin = df.dropna(subset=['Cabin'])\n",
        "\n",
        "# Группируем данные по Cabin и считаем количество пассажиров в каждой каюте\n",
        "\n",
        "cabin_counts = df_cabin.groupby('Cabin').size()\n",
        "n_person_cabins = cabin_counts.value_counts().sort_index()\n",
        "print(\"\\n=== Количество n-местных кабин ===\")\n",
        "print(n_person_cabins)\n"
      ],
      "metadata": {
        "colab": {
          "base_uri": "https://localhost:8080/"
        },
        "id": "q34jwv-5LRRL",
        "outputId": "a17b2030-1061-4ad8-9c38-7cdd1f534ecc"
      },
      "execution_count": 70,
      "outputs": [
        {
          "output_type": "stream",
          "name": "stdout",
          "text": [
            "\n",
            "=== Количество n-местных кабин ===\n",
            "1    101\n",
            "2     38\n",
            "3      5\n",
            "4      3\n",
            "Name: count, dtype: int64\n"
          ]
        }
      ]
    }
  ]
}